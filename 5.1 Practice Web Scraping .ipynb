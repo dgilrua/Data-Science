{
 "cells": [
  {
   "cell_type": "code",
   "execution_count": 3,
   "metadata": {},
   "outputs": [],
   "source": [
    "from bs4 import BeautifulSoup\n",
    "import requests"
   ]
  },
  {
   "cell_type": "code",
   "execution_count": 4,
   "metadata": {},
   "outputs": [],
   "source": [
    "html = \"<!DOCTYPE html><html><head><title>Page Title</title></head><body><h3><b id='boldest'>Lebron James</b></h3><p> Salary: $ 92,000,000 </p><h3> Stephen Curry</h3><p> Salary: $85,000, 000 </p><h3> Kevin Durant </h3><p> Salary: $73,200, 000</p></body></html>\""
   ]
  },
  {
   "cell_type": "code",
   "execution_count": 6,
   "metadata": {},
   "outputs": [],
   "source": [
    "soup = BeautifulSoup(html, 'html.parser')"
   ]
  },
  {
   "cell_type": "code",
   "execution_count": 9,
   "metadata": {},
   "outputs": [
    {
     "name": "stdout",
     "output_type": "stream",
     "text": [
      "<!DOCTYPE html>\n",
      "<html>\n",
      " <head>\n",
      "  <title>\n",
      "   Page Title\n",
      "  </title>\n",
      " </head>\n",
      " <body>\n",
      "  <h3>\n",
      "   <b id=\"boldest\">\n",
      "    Lebron James\n",
      "   </b>\n",
      "  </h3>\n",
      "  <p>\n",
      "   Salary: $ 92,000,000\n",
      "  </p>\n",
      "  <h3>\n",
      "   Stephen Curry\n",
      "  </h3>\n",
      "  <p>\n",
      "   Salary: $85,000, 000\n",
      "  </p>\n",
      "  <h3>\n",
      "   Kevin Durant\n",
      "  </h3>\n",
      "  <p>\n",
      "   Salary: $73,200, 000\n",
      "  </p>\n",
      " </body>\n",
      "</html>\n"
     ]
    }
   ],
   "source": [
    "print(soup.prettify())"
   ]
  },
  {
   "cell_type": "code",
   "execution_count": 13,
   "metadata": {},
   "outputs": [
    {
     "data": {
      "text/plain": [
       "<title>Page Title</title>"
      ]
     },
     "execution_count": 13,
     "metadata": {},
     "output_type": "execute_result"
    }
   ],
   "source": [
    "page_title = soup.title\n",
    "page_title"
   ]
  },
  {
   "cell_type": "code",
   "execution_count": 16,
   "metadata": {},
   "outputs": [
    {
     "data": {
      "text/plain": [
       "<h3><b id=\"boldest\">Lebron James</b></h3>"
      ]
     },
     "execution_count": 16,
     "metadata": {},
     "output_type": "execute_result"
    }
   ],
   "source": [
    "tag_object = soup.h3\n",
    "tag_object"
   ]
  },
  {
   "cell_type": "code",
   "execution_count": 19,
   "metadata": {},
   "outputs": [
    {
     "data": {
      "text/plain": [
       "<b id=\"boldest\">Lebron James</b>"
      ]
     },
     "execution_count": 19,
     "metadata": {},
     "output_type": "execute_result"
    }
   ],
   "source": [
    "tag_child = tag_object.b\n",
    "tag_child"
   ]
  },
  {
   "cell_type": "code",
   "execution_count": 21,
   "metadata": {},
   "outputs": [
    {
     "data": {
      "text/plain": [
       "<h3><b id=\"boldest\">Lebron James</b></h3>"
      ]
     },
     "execution_count": 21,
     "metadata": {},
     "output_type": "execute_result"
    }
   ],
   "source": [
    "parent_tag = tag_child.parent\n",
    "parent_tag"
   ]
  },
  {
   "cell_type": "code",
   "execution_count": 23,
   "metadata": {},
   "outputs": [
    {
     "data": {
      "text/plain": [
       "True"
      ]
     },
     "execution_count": 23,
     "metadata": {},
     "output_type": "execute_result"
    }
   ],
   "source": [
    "tag_object == parent_tag"
   ]
  },
  {
   "cell_type": "code",
   "execution_count": 24,
   "metadata": {},
   "outputs": [
    {
     "data": {
      "text/plain": [
       "<body><h3><b id=\"boldest\">Lebron James</b></h3><p> Salary: $ 92,000,000 </p><h3> Stephen Curry</h3><p> Salary: $85,000, 000 </p><h3> Kevin Durant </h3><p> Salary: $73,200, 000</p></body>"
      ]
     },
     "execution_count": 24,
     "metadata": {},
     "output_type": "execute_result"
    }
   ],
   "source": [
    "tag_object.parent"
   ]
  },
  {
   "cell_type": "code",
   "execution_count": 28,
   "metadata": {},
   "outputs": [
    {
     "data": {
      "text/plain": [
       "<p> Salary: $ 92,000,000 </p>"
      ]
     },
     "execution_count": 28,
     "metadata": {},
     "output_type": "execute_result"
    }
   ],
   "source": [
    "sibling1 = tag_object.next_sibling\n",
    "sibling1"
   ]
  },
  {
   "cell_type": "code",
   "execution_count": 30,
   "metadata": {},
   "outputs": [
    {
     "data": {
      "text/plain": [
       "<h3> Stephen Curry</h3>"
      ]
     },
     "execution_count": 30,
     "metadata": {},
     "output_type": "execute_result"
    }
   ],
   "source": [
    "sibling2 = sibling1.next_sibling\n",
    "sibling2"
   ]
  },
  {
   "cell_type": "code",
   "execution_count": 32,
   "metadata": {},
   "outputs": [
    {
     "data": {
      "text/plain": [
       "<p> Salary: $85,000, 000 </p>"
      ]
     },
     "execution_count": 32,
     "metadata": {},
     "output_type": "execute_result"
    }
   ],
   "source": [
    "sibling3 = sibling2.next_sibling\n",
    "sibling3"
   ]
  },
  {
   "cell_type": "code",
   "execution_count": 34,
   "metadata": {},
   "outputs": [
    {
     "data": {
      "text/plain": [
       "'boldest'"
      ]
     },
     "execution_count": 34,
     "metadata": {},
     "output_type": "execute_result"
    }
   ],
   "source": [
    "tag_child['id']"
   ]
  },
  {
   "cell_type": "code",
   "execution_count": 36,
   "metadata": {},
   "outputs": [
    {
     "data": {
      "text/plain": [
       "{'id': 'boldest'}"
      ]
     },
     "execution_count": 36,
     "metadata": {},
     "output_type": "execute_result"
    }
   ],
   "source": [
    "tag_child.attrs"
   ]
  },
  {
   "cell_type": "code",
   "execution_count": 38,
   "metadata": {},
   "outputs": [
    {
     "data": {
      "text/plain": [
       "'boldest'"
      ]
     },
     "execution_count": 38,
     "metadata": {},
     "output_type": "execute_result"
    }
   ],
   "source": [
    "tag_child.get('id')"
   ]
  },
  {
   "cell_type": "code",
   "execution_count": 44,
   "metadata": {},
   "outputs": [
    {
     "data": {
      "text/plain": [
       "'Lebron James'"
      ]
     },
     "execution_count": 44,
     "metadata": {},
     "output_type": "execute_result"
    }
   ],
   "source": [
    "tag_string = tag_child.string\n",
    "(tag_string)"
   ]
  },
  {
   "cell_type": "code",
   "execution_count": 45,
   "metadata": {},
   "outputs": [],
   "source": [
    "table = \"<table><tr><td id='flight'>Flight No</td><td>Launch site</td> <td>Payload mass</td></tr><tr> <td>1</td><td><a href='https://en.wikipedia.org/wiki/Florida'>Florida<a></td><td>300 kg</td></tr><tr><td>2</td><td><a href='https://en.wikipedia.org/wiki/Texas'>Texas</a></td><td>94 kg</td></tr><tr><td>3</td><td><a href='https://en.wikipedia.org/wiki/Florida'>Florida<a> </td><td>80 kg</td></tr></table>\""
   ]
  },
  {
   "cell_type": "code",
   "execution_count": 49,
   "metadata": {},
   "outputs": [
    {
     "data": {
      "text/plain": [
       "<table><tr><td id=\"flight\">Flight No</td><td>Launch site</td> <td>Payload mass</td></tr><tr> <td>1</td><td><a href=\"https://en.wikipedia.org/wiki/Florida\">Florida<a></a></a></td><td>300 kg</td></tr><tr><td>2</td><td><a href=\"https://en.wikipedia.org/wiki/Texas\">Texas</a></td><td>94 kg</td></tr><tr><td>3</td><td><a href=\"https://en.wikipedia.org/wiki/Florida\">Florida<a> </a></a></td><td>80 kg</td></tr></table>"
      ]
     },
     "execution_count": 49,
     "metadata": {},
     "output_type": "execute_result"
    }
   ],
   "source": [
    "table_bs = BeautifulSoup(table, 'html.parser')\n",
    "table_bs"
   ]
  },
  {
   "cell_type": "code",
   "execution_count": 51,
   "metadata": {},
   "outputs": [
    {
     "data": {
      "text/plain": [
       "[<tr><td id=\"flight\">Flight No</td><td>Launch site</td> <td>Payload mass</td></tr>,\n",
       " <tr> <td>1</td><td><a href=\"https://en.wikipedia.org/wiki/Florida\">Florida<a></a></a></td><td>300 kg</td></tr>,\n",
       " <tr><td>2</td><td><a href=\"https://en.wikipedia.org/wiki/Texas\">Texas</a></td><td>94 kg</td></tr>,\n",
       " <tr><td>3</td><td><a href=\"https://en.wikipedia.org/wiki/Florida\">Florida<a> </a></a></td><td>80 kg</td></tr>]"
      ]
     },
     "execution_count": 51,
     "metadata": {},
     "output_type": "execute_result"
    }
   ],
   "source": [
    "table_rows = table_bs.find_all('tr')\n",
    "table_rows"
   ]
  },
  {
   "cell_type": "code",
   "execution_count": 58,
   "metadata": {},
   "outputs": [
    {
     "data": {
      "text/plain": [
       "[<tr><td id=\"flight\">Flight No</td><td>Launch site</td> <td>Payload mass</td></tr>,\n",
       " <tr> <td>1</td><td><a href=\"https://en.wikipedia.org/wiki/Florida\">Florida<a></a></a></td><td>300 kg</td></tr>,\n",
       " <tr><td>2</td><td><a href=\"https://en.wikipedia.org/wiki/Texas\">Texas</a></td><td>94 kg</td></tr>,\n",
       " <tr><td>3</td><td><a href=\"https://en.wikipedia.org/wiki/Florida\">Florida<a> </a></a></td><td>80 kg</td></tr>]"
      ]
     },
     "execution_count": 58,
     "metadata": {},
     "output_type": "execute_result"
    }
   ],
   "source": [
    "first_row = table_rows[0]\n",
    "table_rows"
   ]
  },
  {
   "cell_type": "code",
   "execution_count": 61,
   "metadata": {},
   "outputs": [
    {
     "name": "stdout",
     "output_type": "stream",
     "text": [
      "0 row\n",
      "column 0 cell <td id=\"flight\">Flight No</td>\n",
      "column 1 cell <td>Launch site</td>\n",
      "column 2 cell <td>Payload mass</td>\n",
      "1 row\n",
      "column 0 cell <td>1</td>\n",
      "column 1 cell <td><a href=\"https://en.wikipedia.org/wiki/Florida\">Florida<a></a></a></td>\n",
      "column 2 cell <td>300 kg</td>\n",
      "2 row\n",
      "column 0 cell <td>2</td>\n",
      "column 1 cell <td><a href=\"https://en.wikipedia.org/wiki/Texas\">Texas</a></td>\n",
      "column 2 cell <td>94 kg</td>\n",
      "3 row\n",
      "column 0 cell <td>3</td>\n",
      "column 1 cell <td><a href=\"https://en.wikipedia.org/wiki/Florida\">Florida<a> </a></a></td>\n",
      "column 2 cell <td>80 kg</td>\n"
     ]
    }
   ],
   "source": [
    "for i, row in enumerate(table_rows):\n",
    "    print(i, 'row')\n",
    "    for j, columns in enumerate(row.find_all('td')):\n",
    "        print('column', j, 'cell', columns)"
   ]
  },
  {
   "cell_type": "code",
   "execution_count": 66,
   "metadata": {},
   "outputs": [
    {
     "name": "stdout",
     "output_type": "stream",
     "text": [
      "[<tr><td id=\"flight\">Flight No</td><td>Launch site</td> <td>Payload mass</td></tr>, <td id=\"flight\">Flight No</td>, <td>Launch site</td>, <td>Payload mass</td>, <tr> <td>1</td><td><a href=\"https://en.wikipedia.org/wiki/Florida\">Florida<a></a></a></td><td>300 kg</td></tr>, <td>1</td>, <td><a href=\"https://en.wikipedia.org/wiki/Florida\">Florida<a></a></a></td>, <td>300 kg</td>, <tr><td>2</td><td><a href=\"https://en.wikipedia.org/wiki/Texas\">Texas</a></td><td>94 kg</td></tr>, <td>2</td>, <td><a href=\"https://en.wikipedia.org/wiki/Texas\">Texas</a></td>, <td>94 kg</td>, <tr><td>3</td><td><a href=\"https://en.wikipedia.org/wiki/Florida\">Florida<a> </a></a></td><td>80 kg</td></tr>, <td>3</td>, <td><a href=\"https://en.wikipedia.org/wiki/Florida\">Florida<a> </a></a></td>, <td>80 kg</td>]\n"
     ]
    }
   ],
   "source": [
    "list_input = table_bs.find_all(name=['tr', 'td'])\n",
    "print((list_input))"
   ]
  },
  {
   "cell_type": "code",
   "execution_count": 74,
   "metadata": {},
   "outputs": [
    {
     "data": {
      "text/plain": [
       "[<b id=\"boldest\">Lebron James</b>]"
      ]
     },
     "execution_count": 74,
     "metadata": {},
     "output_type": "execute_result"
    }
   ],
   "source": [
    "table_bs.find_all(href=False)\n",
    "soup.find_all(id='boldest')"
   ]
  },
  {
   "cell_type": "code",
   "execution_count": 76,
   "metadata": {},
   "outputs": [
    {
     "data": {
      "text/plain": [
       "['Florida', 'Florida']"
      ]
     },
     "execution_count": 76,
     "metadata": {},
     "output_type": "execute_result"
    }
   ],
   "source": [
    "table_bs.find_all(string='Florida')"
   ]
  },
  {
   "cell_type": "code",
   "execution_count": 85,
   "metadata": {},
   "outputs": [
    {
     "name": "stdout",
     "output_type": "stream",
     "text": [
      "https://www.ibm.com/es-es/products/linuxone-emperor-4\n",
      "https://www.ibm.com/es-es/about/secure-your-business\n",
      "https://www.ibm.com/es-es/cloud/campaign/cloud-simplicity\n",
      "https://www.ibm.com/es-es/analytics/data-fabric\n",
      "https://www.ibm.com/es-es/cloud/aiops\n",
      "https://www.ibm.com/consulting/es-es/\n",
      "https://www.ibm.com/co-es/storage/flash\n",
      "https://www.ibm.com/it-infrastructure/storage/flash/offers/co-es\n",
      "/co-es/products?lnk=hpv18t5\n",
      "/co-es/cloud/free?lnk=hpv18t1\n",
      "/co-es/products/cloud-pak-for-data?lnk=hpv18t2\n",
      "/co-es/products/spectrum-virtualize-for-public-cloud\n",
      "/co-es/cloud/watson-assistant?lnk=hpv18t3\n",
      "/co-es/security/identity-access-management/cloud-identity?lnk=hpv18t4\n",
      "https://developer.ibm.com/depmodels/cloud/?lnk=hpv18ct16\n",
      "https://developer.ibm.com/technologies/artificial-intelligence?lnk=hpv18ct19\n",
      "https://www.ibm.com/demos/?lnk=hpv18ct12\n",
      "https://developer.ibm.com/?lnk=hpv18ct9\n",
      "https://www.ibm.com/docs/en?lnk=hpv18ct14\n",
      "https://www.redbooks.ibm.com/?lnk=ushpv18ct10\n",
      "https://www.ibm.com/support/home/?lnk=hpv18ct11\n",
      "https://www.ibm.com/training/?lnk=hpv18ct15\n",
      "/co-es/cloud\n",
      "/cloud/hybrid?lnk=hpv18pt14\n",
      "/co-es/watson?lnk=ushpv18pt17\n",
      "/co-es/garage?lnk=hpv18pt13\n",
      "/co-es/blockchain?lnk=hpv18pt4\n",
      "https://www.ibm.com/thought-leadership/institute-business-value/?lnk=hpv18pt12\n",
      "/co-es/analytics?lnk=hpv18pt1\n",
      "/co-es/security?lnk=hpv18pt9\n",
      "/mx-es/financing?lnk=hpv18pt3\n",
      "https://www.ibm.com/quantum-computing?lnk=hpv18pt16\n",
      "/co-es/cloud/learn/hybrid-cloud\n",
      "/cloud/learn/public-cloud?lnk=hpv18ct1\n",
      "/co-es/cloud/redhat?lnk=hpv18ct13\n",
      "/co-es/watson?lnk=hpv18ct3\n",
      "https://www.ibm.com/quantum-computing?lnk=hpv18ct18\n",
      "/cloud/learn/kubernetes?lnk=hpv18ct8\n",
      "/co-es/products/spss-statistics?lnk=ushpv18ct7\n",
      "/co-es/blockchain?lnk=hpv18ct1\n",
      "https://www.ibm.com/co-es/employment?lnk=hpv18ct2\n",
      "https://research.ibm.com/\n",
      "https://www.ibm.com/case-studies/masters/\n",
      "/case-studies/search?lnk=hpv18cs2\n",
      "#\n"
     ]
    }
   ],
   "source": [
    "url = 'http://ibm.com'\n",
    "data = requests.get(url).text\n",
    "soup = BeautifulSoup(data, 'html.parser')\n",
    "\n",
    "for link in soup.find_all('a', href=True):\n",
    "    print(link.get('href'))"
   ]
  },
  {
   "cell_type": "code",
   "execution_count": 92,
   "metadata": {},
   "outputs": [
    {
     "name": "stdout",
     "output_type": "stream",
     "text": [
      "Color Name -----> None\n",
      "lightsalmon -----> #FFA07A\n",
      "salmon -----> #FA8072\n",
      "darksalmon -----> #E9967A\n",
      "lightcoral -----> #F08080\n",
      "coral -----> #FF7F50\n",
      "tomato -----> #FF6347\n",
      "orangered -----> #FF4500\n",
      "gold -----> #FFD700\n",
      "orange -----> #FFA500\n",
      "darkorange -----> #FF8C00\n",
      "lightyellow -----> #FFFFE0\n",
      "lemonchiffon -----> #FFFACD\n",
      "papayawhip -----> #FFEFD5\n",
      "moccasin -----> #FFE4B5\n",
      "peachpuff -----> #FFDAB9\n",
      "palegoldenrod -----> #EEE8AA\n",
      "khaki -----> #F0E68C\n",
      "darkkhaki -----> #BDB76B\n",
      "yellow -----> #FFFF00\n",
      "lawngreen -----> #7CFC00\n",
      "chartreuse -----> #7FFF00\n",
      "limegreen -----> #32CD32\n",
      "lime -----> #00FF00\n",
      "forestgreen -----> #228B22\n",
      "green -----> #008000\n",
      "powderblue -----> #B0E0E6\n",
      "lightblue -----> #ADD8E6\n",
      "lightskyblue -----> #87CEFA\n",
      "skyblue -----> #87CEEB\n",
      "deepskyblue -----> #00BFFF\n",
      "lightsteelblue -----> #B0C4DE\n",
      "dodgerblue -----> #1E90FF\n"
     ]
    }
   ],
   "source": [
    "url2 = 'https://cf-courses-data.s3.us.cloud-object-storage.appdomain.cloud/IBM-DA0321EN-SkillsNetwork/labs/datasets/HTMLColorCodes.html'\n",
    "data2 = requests.get(url2).text\n",
    "soup2 = BeautifulSoup(data2, 'html.parser')\n",
    "table = soup2.find('table')\n",
    "\n",
    "for row in table.find_all('tr'):\n",
    "    column = row.findAll('td')\n",
    "    color_name = column[2].string\n",
    "    color_code = column[3].string\n",
    "    print(f'{color_name} -----> {color_code}')"
   ]
  },
  {
   "cell_type": "code",
   "execution_count": 4,
   "metadata": {},
   "outputs": [
    {
     "name": "stderr",
     "output_type": "stream",
     "text": [
      "C:\\Users\\dgilr\\AppData\\Local\\Temp\\ipykernel_1752\\641766653.py:23: FutureWarning: The frame.append method is deprecated and will be removed from pandas in a future version. Use pandas.concat instead.\n",
      "  population_data = population_data.append({'Year':Year, 'Population':Population, 'Yearly growth':Yearly, 'Density':Density, 'Urban population':Urban}, ignore_index=True)\n",
      "C:\\Users\\dgilr\\AppData\\Local\\Temp\\ipykernel_1752\\641766653.py:23: FutureWarning: The frame.append method is deprecated and will be removed from pandas in a future version. Use pandas.concat instead.\n",
      "  population_data = population_data.append({'Year':Year, 'Population':Population, 'Yearly growth':Yearly, 'Density':Density, 'Urban population':Urban}, ignore_index=True)\n",
      "C:\\Users\\dgilr\\AppData\\Local\\Temp\\ipykernel_1752\\641766653.py:23: FutureWarning: The frame.append method is deprecated and will be removed from pandas in a future version. Use pandas.concat instead.\n",
      "  population_data = population_data.append({'Year':Year, 'Population':Population, 'Yearly growth':Yearly, 'Density':Density, 'Urban population':Urban}, ignore_index=True)\n",
      "C:\\Users\\dgilr\\AppData\\Local\\Temp\\ipykernel_1752\\641766653.py:23: FutureWarning: The frame.append method is deprecated and will be removed from pandas in a future version. Use pandas.concat instead.\n",
      "  population_data = population_data.append({'Year':Year, 'Population':Population, 'Yearly growth':Yearly, 'Density':Density, 'Urban population':Urban}, ignore_index=True)\n",
      "C:\\Users\\dgilr\\AppData\\Local\\Temp\\ipykernel_1752\\641766653.py:23: FutureWarning: The frame.append method is deprecated and will be removed from pandas in a future version. Use pandas.concat instead.\n",
      "  population_data = population_data.append({'Year':Year, 'Population':Population, 'Yearly growth':Yearly, 'Density':Density, 'Urban population':Urban}, ignore_index=True)\n",
      "C:\\Users\\dgilr\\AppData\\Local\\Temp\\ipykernel_1752\\641766653.py:23: FutureWarning: The frame.append method is deprecated and will be removed from pandas in a future version. Use pandas.concat instead.\n",
      "  population_data = population_data.append({'Year':Year, 'Population':Population, 'Yearly growth':Yearly, 'Density':Density, 'Urban population':Urban}, ignore_index=True)\n",
      "C:\\Users\\dgilr\\AppData\\Local\\Temp\\ipykernel_1752\\641766653.py:23: FutureWarning: The frame.append method is deprecated and will be removed from pandas in a future version. Use pandas.concat instead.\n",
      "  population_data = population_data.append({'Year':Year, 'Population':Population, 'Yearly growth':Yearly, 'Density':Density, 'Urban population':Urban}, ignore_index=True)\n",
      "C:\\Users\\dgilr\\AppData\\Local\\Temp\\ipykernel_1752\\641766653.py:23: FutureWarning: The frame.append method is deprecated and will be removed from pandas in a future version. Use pandas.concat instead.\n",
      "  population_data = population_data.append({'Year':Year, 'Population':Population, 'Yearly growth':Yearly, 'Density':Density, 'Urban population':Urban}, ignore_index=True)\n",
      "C:\\Users\\dgilr\\AppData\\Local\\Temp\\ipykernel_1752\\641766653.py:23: FutureWarning: The frame.append method is deprecated and will be removed from pandas in a future version. Use pandas.concat instead.\n",
      "  population_data = population_data.append({'Year':Year, 'Population':Population, 'Yearly growth':Yearly, 'Density':Density, 'Urban population':Urban}, ignore_index=True)\n",
      "C:\\Users\\dgilr\\AppData\\Local\\Temp\\ipykernel_1752\\641766653.py:23: FutureWarning: The frame.append method is deprecated and will be removed from pandas in a future version. Use pandas.concat instead.\n",
      "  population_data = population_data.append({'Year':Year, 'Population':Population, 'Yearly growth':Yearly, 'Density':Density, 'Urban population':Urban}, ignore_index=True)\n",
      "C:\\Users\\dgilr\\AppData\\Local\\Temp\\ipykernel_1752\\641766653.py:23: FutureWarning: The frame.append method is deprecated and will be removed from pandas in a future version. Use pandas.concat instead.\n",
      "  population_data = population_data.append({'Year':Year, 'Population':Population, 'Yearly growth':Yearly, 'Density':Density, 'Urban population':Urban}, ignore_index=True)\n",
      "C:\\Users\\dgilr\\AppData\\Local\\Temp\\ipykernel_1752\\641766653.py:23: FutureWarning: The frame.append method is deprecated and will be removed from pandas in a future version. Use pandas.concat instead.\n",
      "  population_data = population_data.append({'Year':Year, 'Population':Population, 'Yearly growth':Yearly, 'Density':Density, 'Urban population':Urban}, ignore_index=True)\n",
      "C:\\Users\\dgilr\\AppData\\Local\\Temp\\ipykernel_1752\\641766653.py:23: FutureWarning: The frame.append method is deprecated and will be removed from pandas in a future version. Use pandas.concat instead.\n",
      "  population_data = population_data.append({'Year':Year, 'Population':Population, 'Yearly growth':Yearly, 'Density':Density, 'Urban population':Urban}, ignore_index=True)\n",
      "C:\\Users\\dgilr\\AppData\\Local\\Temp\\ipykernel_1752\\641766653.py:23: FutureWarning: The frame.append method is deprecated and will be removed from pandas in a future version. Use pandas.concat instead.\n",
      "  population_data = population_data.append({'Year':Year, 'Population':Population, 'Yearly growth':Yearly, 'Density':Density, 'Urban population':Urban}, ignore_index=True)\n",
      "C:\\Users\\dgilr\\AppData\\Local\\Temp\\ipykernel_1752\\641766653.py:23: FutureWarning: The frame.append method is deprecated and will be removed from pandas in a future version. Use pandas.concat instead.\n",
      "  population_data = population_data.append({'Year':Year, 'Population':Population, 'Yearly growth':Yearly, 'Density':Density, 'Urban population':Urban}, ignore_index=True)\n",
      "C:\\Users\\dgilr\\AppData\\Local\\Temp\\ipykernel_1752\\641766653.py:23: FutureWarning: The frame.append method is deprecated and will be removed from pandas in a future version. Use pandas.concat instead.\n",
      "  population_data = population_data.append({'Year':Year, 'Population':Population, 'Yearly growth':Yearly, 'Density':Density, 'Urban population':Urban}, ignore_index=True)\n",
      "C:\\Users\\dgilr\\AppData\\Local\\Temp\\ipykernel_1752\\641766653.py:23: FutureWarning: The frame.append method is deprecated and will be removed from pandas in a future version. Use pandas.concat instead.\n",
      "  population_data = population_data.append({'Year':Year, 'Population':Population, 'Yearly growth':Yearly, 'Density':Density, 'Urban population':Urban}, ignore_index=True)\n",
      "C:\\Users\\dgilr\\AppData\\Local\\Temp\\ipykernel_1752\\641766653.py:23: FutureWarning: The frame.append method is deprecated and will be removed from pandas in a future version. Use pandas.concat instead.\n",
      "  population_data = population_data.append({'Year':Year, 'Population':Population, 'Yearly growth':Yearly, 'Density':Density, 'Urban population':Urban}, ignore_index=True)\n",
      "C:\\Users\\dgilr\\AppData\\Local\\Temp\\ipykernel_1752\\641766653.py:23: FutureWarning: The frame.append method is deprecated and will be removed from pandas in a future version. Use pandas.concat instead.\n",
      "  population_data = population_data.append({'Year':Year, 'Population':Population, 'Yearly growth':Yearly, 'Density':Density, 'Urban population':Urban}, ignore_index=True)\n",
      "C:\\Users\\dgilr\\AppData\\Local\\Temp\\ipykernel_1752\\641766653.py:23: FutureWarning: The frame.append method is deprecated and will be removed from pandas in a future version. Use pandas.concat instead.\n",
      "  population_data = population_data.append({'Year':Year, 'Population':Population, 'Yearly growth':Yearly, 'Density':Density, 'Urban population':Urban}, ignore_index=True)\n",
      "C:\\Users\\dgilr\\AppData\\Local\\Temp\\ipykernel_1752\\641766653.py:23: FutureWarning: The frame.append method is deprecated and will be removed from pandas in a future version. Use pandas.concat instead.\n",
      "  population_data = population_data.append({'Year':Year, 'Population':Population, 'Yearly growth':Yearly, 'Density':Density, 'Urban population':Urban}, ignore_index=True)\n",
      "C:\\Users\\dgilr\\AppData\\Local\\Temp\\ipykernel_1752\\641766653.py:23: FutureWarning: The frame.append method is deprecated and will be removed from pandas in a future version. Use pandas.concat instead.\n",
      "  population_data = population_data.append({'Year':Year, 'Population':Population, 'Yearly growth':Yearly, 'Density':Density, 'Urban population':Urban}, ignore_index=True)\n",
      "C:\\Users\\dgilr\\AppData\\Local\\Temp\\ipykernel_1752\\641766653.py:23: FutureWarning: The frame.append method is deprecated and will be removed from pandas in a future version. Use pandas.concat instead.\n",
      "  population_data = population_data.append({'Year':Year, 'Population':Population, 'Yearly growth':Yearly, 'Density':Density, 'Urban population':Urban}, ignore_index=True)\n",
      "C:\\Users\\dgilr\\AppData\\Local\\Temp\\ipykernel_1752\\641766653.py:23: FutureWarning: The frame.append method is deprecated and will be removed from pandas in a future version. Use pandas.concat instead.\n",
      "  population_data = population_data.append({'Year':Year, 'Population':Population, 'Yearly growth':Yearly, 'Density':Density, 'Urban population':Urban}, ignore_index=True)\n",
      "C:\\Users\\dgilr\\AppData\\Local\\Temp\\ipykernel_1752\\641766653.py:23: FutureWarning: The frame.append method is deprecated and will be removed from pandas in a future version. Use pandas.concat instead.\n",
      "  population_data = population_data.append({'Year':Year, 'Population':Population, 'Yearly growth':Yearly, 'Density':Density, 'Urban population':Urban}, ignore_index=True)\n",
      "C:\\Users\\dgilr\\AppData\\Local\\Temp\\ipykernel_1752\\641766653.py:23: FutureWarning: The frame.append method is deprecated and will be removed from pandas in a future version. Use pandas.concat instead.\n",
      "  population_data = population_data.append({'Year':Year, 'Population':Population, 'Yearly growth':Yearly, 'Density':Density, 'Urban population':Urban}, ignore_index=True)\n",
      "C:\\Users\\dgilr\\AppData\\Local\\Temp\\ipykernel_1752\\641766653.py:23: FutureWarning: The frame.append method is deprecated and will be removed from pandas in a future version. Use pandas.concat instead.\n",
      "  population_data = population_data.append({'Year':Year, 'Population':Population, 'Yearly growth':Yearly, 'Density':Density, 'Urban population':Urban}, ignore_index=True)\n",
      "C:\\Users\\dgilr\\AppData\\Local\\Temp\\ipykernel_1752\\641766653.py:23: FutureWarning: The frame.append method is deprecated and will be removed from pandas in a future version. Use pandas.concat instead.\n",
      "  population_data = population_data.append({'Year':Year, 'Population':Population, 'Yearly growth':Yearly, 'Density':Density, 'Urban population':Urban}, ignore_index=True)\n",
      "C:\\Users\\dgilr\\AppData\\Local\\Temp\\ipykernel_1752\\641766653.py:23: FutureWarning: The frame.append method is deprecated and will be removed from pandas in a future version. Use pandas.concat instead.\n",
      "  population_data = population_data.append({'Year':Year, 'Population':Population, 'Yearly growth':Yearly, 'Density':Density, 'Urban population':Urban}, ignore_index=True)\n",
      "C:\\Users\\dgilr\\AppData\\Local\\Temp\\ipykernel_1752\\641766653.py:23: FutureWarning: The frame.append method is deprecated and will be removed from pandas in a future version. Use pandas.concat instead.\n",
      "  population_data = population_data.append({'Year':Year, 'Population':Population, 'Yearly growth':Yearly, 'Density':Density, 'Urban population':Urban}, ignore_index=True)\n",
      "C:\\Users\\dgilr\\AppData\\Local\\Temp\\ipykernel_1752\\641766653.py:23: FutureWarning: The frame.append method is deprecated and will be removed from pandas in a future version. Use pandas.concat instead.\n",
      "  population_data = population_data.append({'Year':Year, 'Population':Population, 'Yearly growth':Yearly, 'Density':Density, 'Urban population':Urban}, ignore_index=True)\n",
      "C:\\Users\\dgilr\\AppData\\Local\\Temp\\ipykernel_1752\\641766653.py:23: FutureWarning: The frame.append method is deprecated and will be removed from pandas in a future version. Use pandas.concat instead.\n",
      "  population_data = population_data.append({'Year':Year, 'Population':Population, 'Yearly growth':Yearly, 'Density':Density, 'Urban population':Urban}, ignore_index=True)\n",
      "C:\\Users\\dgilr\\AppData\\Local\\Temp\\ipykernel_1752\\641766653.py:23: FutureWarning: The frame.append method is deprecated and will be removed from pandas in a future version. Use pandas.concat instead.\n",
      "  population_data = population_data.append({'Year':Year, 'Population':Population, 'Yearly growth':Yearly, 'Density':Density, 'Urban population':Urban}, ignore_index=True)\n",
      "C:\\Users\\dgilr\\AppData\\Local\\Temp\\ipykernel_1752\\641766653.py:23: FutureWarning: The frame.append method is deprecated and will be removed from pandas in a future version. Use pandas.concat instead.\n",
      "  population_data = population_data.append({'Year':Year, 'Population':Population, 'Yearly growth':Yearly, 'Density':Density, 'Urban population':Urban}, ignore_index=True)\n",
      "C:\\Users\\dgilr\\AppData\\Local\\Temp\\ipykernel_1752\\641766653.py:23: FutureWarning: The frame.append method is deprecated and will be removed from pandas in a future version. Use pandas.concat instead.\n",
      "  population_data = population_data.append({'Year':Year, 'Population':Population, 'Yearly growth':Yearly, 'Density':Density, 'Urban population':Urban}, ignore_index=True)\n",
      "C:\\Users\\dgilr\\AppData\\Local\\Temp\\ipykernel_1752\\641766653.py:23: FutureWarning: The frame.append method is deprecated and will be removed from pandas in a future version. Use pandas.concat instead.\n",
      "  population_data = population_data.append({'Year':Year, 'Population':Population, 'Yearly growth':Yearly, 'Density':Density, 'Urban population':Urban}, ignore_index=True)\n",
      "C:\\Users\\dgilr\\AppData\\Local\\Temp\\ipykernel_1752\\641766653.py:23: FutureWarning: The frame.append method is deprecated and will be removed from pandas in a future version. Use pandas.concat instead.\n",
      "  population_data = population_data.append({'Year':Year, 'Population':Population, 'Yearly growth':Yearly, 'Density':Density, 'Urban population':Urban}, ignore_index=True)\n",
      "C:\\Users\\dgilr\\AppData\\Local\\Temp\\ipykernel_1752\\641766653.py:23: FutureWarning: The frame.append method is deprecated and will be removed from pandas in a future version. Use pandas.concat instead.\n",
      "  population_data = population_data.append({'Year':Year, 'Population':Population, 'Yearly growth':Yearly, 'Density':Density, 'Urban population':Urban}, ignore_index=True)\n",
      "C:\\Users\\dgilr\\AppData\\Local\\Temp\\ipykernel_1752\\641766653.py:23: FutureWarning: The frame.append method is deprecated and will be removed from pandas in a future version. Use pandas.concat instead.\n",
      "  population_data = population_data.append({'Year':Year, 'Population':Population, 'Yearly growth':Yearly, 'Density':Density, 'Urban population':Urban}, ignore_index=True)\n",
      "C:\\Users\\dgilr\\AppData\\Local\\Temp\\ipykernel_1752\\641766653.py:23: FutureWarning: The frame.append method is deprecated and will be removed from pandas in a future version. Use pandas.concat instead.\n",
      "  population_data = population_data.append({'Year':Year, 'Population':Population, 'Yearly growth':Yearly, 'Density':Density, 'Urban population':Urban}, ignore_index=True)\n",
      "C:\\Users\\dgilr\\AppData\\Local\\Temp\\ipykernel_1752\\641766653.py:23: FutureWarning: The frame.append method is deprecated and will be removed from pandas in a future version. Use pandas.concat instead.\n",
      "  population_data = population_data.append({'Year':Year, 'Population':Population, 'Yearly growth':Yearly, 'Density':Density, 'Urban population':Urban}, ignore_index=True)\n",
      "C:\\Users\\dgilr\\AppData\\Local\\Temp\\ipykernel_1752\\641766653.py:23: FutureWarning: The frame.append method is deprecated and will be removed from pandas in a future version. Use pandas.concat instead.\n",
      "  population_data = population_data.append({'Year':Year, 'Population':Population, 'Yearly growth':Yearly, 'Density':Density, 'Urban population':Urban}, ignore_index=True)\n",
      "C:\\Users\\dgilr\\AppData\\Local\\Temp\\ipykernel_1752\\641766653.py:23: FutureWarning: The frame.append method is deprecated and will be removed from pandas in a future version. Use pandas.concat instead.\n",
      "  population_data = population_data.append({'Year':Year, 'Population':Population, 'Yearly growth':Yearly, 'Density':Density, 'Urban population':Urban}, ignore_index=True)\n",
      "C:\\Users\\dgilr\\AppData\\Local\\Temp\\ipykernel_1752\\641766653.py:23: FutureWarning: The frame.append method is deprecated and will be removed from pandas in a future version. Use pandas.concat instead.\n",
      "  population_data = population_data.append({'Year':Year, 'Population':Population, 'Yearly growth':Yearly, 'Density':Density, 'Urban population':Urban}, ignore_index=True)\n",
      "C:\\Users\\dgilr\\AppData\\Local\\Temp\\ipykernel_1752\\641766653.py:23: FutureWarning: The frame.append method is deprecated and will be removed from pandas in a future version. Use pandas.concat instead.\n",
      "  population_data = population_data.append({'Year':Year, 'Population':Population, 'Yearly growth':Yearly, 'Density':Density, 'Urban population':Urban}, ignore_index=True)\n",
      "C:\\Users\\dgilr\\AppData\\Local\\Temp\\ipykernel_1752\\641766653.py:23: FutureWarning: The frame.append method is deprecated and will be removed from pandas in a future version. Use pandas.concat instead.\n",
      "  population_data = population_data.append({'Year':Year, 'Population':Population, 'Yearly growth':Yearly, 'Density':Density, 'Urban population':Urban}, ignore_index=True)\n",
      "C:\\Users\\dgilr\\AppData\\Local\\Temp\\ipykernel_1752\\641766653.py:23: FutureWarning: The frame.append method is deprecated and will be removed from pandas in a future version. Use pandas.concat instead.\n",
      "  population_data = population_data.append({'Year':Year, 'Population':Population, 'Yearly growth':Yearly, 'Density':Density, 'Urban population':Urban}, ignore_index=True)\n",
      "C:\\Users\\dgilr\\AppData\\Local\\Temp\\ipykernel_1752\\641766653.py:23: FutureWarning: The frame.append method is deprecated and will be removed from pandas in a future version. Use pandas.concat instead.\n",
      "  population_data = population_data.append({'Year':Year, 'Population':Population, 'Yearly growth':Yearly, 'Density':Density, 'Urban population':Urban}, ignore_index=True)\n",
      "C:\\Users\\dgilr\\AppData\\Local\\Temp\\ipykernel_1752\\641766653.py:23: FutureWarning: The frame.append method is deprecated and will be removed from pandas in a future version. Use pandas.concat instead.\n",
      "  population_data = population_data.append({'Year':Year, 'Population':Population, 'Yearly growth':Yearly, 'Density':Density, 'Urban population':Urban}, ignore_index=True)\n",
      "C:\\Users\\dgilr\\AppData\\Local\\Temp\\ipykernel_1752\\641766653.py:23: FutureWarning: The frame.append method is deprecated and will be removed from pandas in a future version. Use pandas.concat instead.\n",
      "  population_data = population_data.append({'Year':Year, 'Population':Population, 'Yearly growth':Yearly, 'Density':Density, 'Urban population':Urban}, ignore_index=True)\n",
      "C:\\Users\\dgilr\\AppData\\Local\\Temp\\ipykernel_1752\\641766653.py:23: FutureWarning: The frame.append method is deprecated and will be removed from pandas in a future version. Use pandas.concat instead.\n",
      "  population_data = population_data.append({'Year':Year, 'Population':Population, 'Yearly growth':Yearly, 'Density':Density, 'Urban population':Urban}, ignore_index=True)\n",
      "C:\\Users\\dgilr\\AppData\\Local\\Temp\\ipykernel_1752\\641766653.py:23: FutureWarning: The frame.append method is deprecated and will be removed from pandas in a future version. Use pandas.concat instead.\n",
      "  population_data = population_data.append({'Year':Year, 'Population':Population, 'Yearly growth':Yearly, 'Density':Density, 'Urban population':Urban}, ignore_index=True)\n",
      "C:\\Users\\dgilr\\AppData\\Local\\Temp\\ipykernel_1752\\641766653.py:23: FutureWarning: The frame.append method is deprecated and will be removed from pandas in a future version. Use pandas.concat instead.\n",
      "  population_data = population_data.append({'Year':Year, 'Population':Population, 'Yearly growth':Yearly, 'Density':Density, 'Urban population':Urban}, ignore_index=True)\n",
      "C:\\Users\\dgilr\\AppData\\Local\\Temp\\ipykernel_1752\\641766653.py:23: FutureWarning: The frame.append method is deprecated and will be removed from pandas in a future version. Use pandas.concat instead.\n",
      "  population_data = population_data.append({'Year':Year, 'Population':Population, 'Yearly growth':Yearly, 'Density':Density, 'Urban population':Urban}, ignore_index=True)\n",
      "C:\\Users\\dgilr\\AppData\\Local\\Temp\\ipykernel_1752\\641766653.py:23: FutureWarning: The frame.append method is deprecated and will be removed from pandas in a future version. Use pandas.concat instead.\n",
      "  population_data = population_data.append({'Year':Year, 'Population':Population, 'Yearly growth':Yearly, 'Density':Density, 'Urban population':Urban}, ignore_index=True)\n",
      "C:\\Users\\dgilr\\AppData\\Local\\Temp\\ipykernel_1752\\641766653.py:23: FutureWarning: The frame.append method is deprecated and will be removed from pandas in a future version. Use pandas.concat instead.\n",
      "  population_data = population_data.append({'Year':Year, 'Population':Population, 'Yearly growth':Yearly, 'Density':Density, 'Urban population':Urban}, ignore_index=True)\n",
      "C:\\Users\\dgilr\\AppData\\Local\\Temp\\ipykernel_1752\\641766653.py:23: FutureWarning: The frame.append method is deprecated and will be removed from pandas in a future version. Use pandas.concat instead.\n",
      "  population_data = population_data.append({'Year':Year, 'Population':Population, 'Yearly growth':Yearly, 'Density':Density, 'Urban population':Urban}, ignore_index=True)\n",
      "C:\\Users\\dgilr\\AppData\\Local\\Temp\\ipykernel_1752\\641766653.py:23: FutureWarning: The frame.append method is deprecated and will be removed from pandas in a future version. Use pandas.concat instead.\n",
      "  population_data = population_data.append({'Year':Year, 'Population':Population, 'Yearly growth':Yearly, 'Density':Density, 'Urban population':Urban}, ignore_index=True)\n",
      "C:\\Users\\dgilr\\AppData\\Local\\Temp\\ipykernel_1752\\641766653.py:23: FutureWarning: The frame.append method is deprecated and will be removed from pandas in a future version. Use pandas.concat instead.\n",
      "  population_data = population_data.append({'Year':Year, 'Population':Population, 'Yearly growth':Yearly, 'Density':Density, 'Urban population':Urban}, ignore_index=True)\n",
      "C:\\Users\\dgilr\\AppData\\Local\\Temp\\ipykernel_1752\\641766653.py:23: FutureWarning: The frame.append method is deprecated and will be removed from pandas in a future version. Use pandas.concat instead.\n",
      "  population_data = population_data.append({'Year':Year, 'Population':Population, 'Yearly growth':Yearly, 'Density':Density, 'Urban population':Urban}, ignore_index=True)\n",
      "C:\\Users\\dgilr\\AppData\\Local\\Temp\\ipykernel_1752\\641766653.py:23: FutureWarning: The frame.append method is deprecated and will be removed from pandas in a future version. Use pandas.concat instead.\n",
      "  population_data = population_data.append({'Year':Year, 'Population':Population, 'Yearly growth':Yearly, 'Density':Density, 'Urban population':Urban}, ignore_index=True)\n",
      "C:\\Users\\dgilr\\AppData\\Local\\Temp\\ipykernel_1752\\641766653.py:23: FutureWarning: The frame.append method is deprecated and will be removed from pandas in a future version. Use pandas.concat instead.\n",
      "  population_data = population_data.append({'Year':Year, 'Population':Population, 'Yearly growth':Yearly, 'Density':Density, 'Urban population':Urban}, ignore_index=True)\n",
      "C:\\Users\\dgilr\\AppData\\Local\\Temp\\ipykernel_1752\\641766653.py:23: FutureWarning: The frame.append method is deprecated and will be removed from pandas in a future version. Use pandas.concat instead.\n",
      "  population_data = population_data.append({'Year':Year, 'Population':Population, 'Yearly growth':Yearly, 'Density':Density, 'Urban population':Urban}, ignore_index=True)\n",
      "C:\\Users\\dgilr\\AppData\\Local\\Temp\\ipykernel_1752\\641766653.py:23: FutureWarning: The frame.append method is deprecated and will be removed from pandas in a future version. Use pandas.concat instead.\n",
      "  population_data = population_data.append({'Year':Year, 'Population':Population, 'Yearly growth':Yearly, 'Density':Density, 'Urban population':Urban}, ignore_index=True)\n",
      "C:\\Users\\dgilr\\AppData\\Local\\Temp\\ipykernel_1752\\641766653.py:23: FutureWarning: The frame.append method is deprecated and will be removed from pandas in a future version. Use pandas.concat instead.\n",
      "  population_data = population_data.append({'Year':Year, 'Population':Population, 'Yearly growth':Yearly, 'Density':Density, 'Urban population':Urban}, ignore_index=True)\n",
      "C:\\Users\\dgilr\\AppData\\Local\\Temp\\ipykernel_1752\\641766653.py:23: FutureWarning: The frame.append method is deprecated and will be removed from pandas in a future version. Use pandas.concat instead.\n",
      "  population_data = population_data.append({'Year':Year, 'Population':Population, 'Yearly growth':Yearly, 'Density':Density, 'Urban population':Urban}, ignore_index=True)\n",
      "C:\\Users\\dgilr\\AppData\\Local\\Temp\\ipykernel_1752\\641766653.py:23: FutureWarning: The frame.append method is deprecated and will be removed from pandas in a future version. Use pandas.concat instead.\n",
      "  population_data = population_data.append({'Year':Year, 'Population':Population, 'Yearly growth':Yearly, 'Density':Density, 'Urban population':Urban}, ignore_index=True)\n",
      "C:\\Users\\dgilr\\AppData\\Local\\Temp\\ipykernel_1752\\641766653.py:23: FutureWarning: The frame.append method is deprecated and will be removed from pandas in a future version. Use pandas.concat instead.\n",
      "  population_data = population_data.append({'Year':Year, 'Population':Population, 'Yearly growth':Yearly, 'Density':Density, 'Urban population':Urban}, ignore_index=True)\n",
      "C:\\Users\\dgilr\\AppData\\Local\\Temp\\ipykernel_1752\\641766653.py:23: FutureWarning: The frame.append method is deprecated and will be removed from pandas in a future version. Use pandas.concat instead.\n",
      "  population_data = population_data.append({'Year':Year, 'Population':Population, 'Yearly growth':Yearly, 'Density':Density, 'Urban population':Urban}, ignore_index=True)\n",
      "C:\\Users\\dgilr\\AppData\\Local\\Temp\\ipykernel_1752\\641766653.py:23: FutureWarning: The frame.append method is deprecated and will be removed from pandas in a future version. Use pandas.concat instead.\n",
      "  population_data = population_data.append({'Year':Year, 'Population':Population, 'Yearly growth':Yearly, 'Density':Density, 'Urban population':Urban}, ignore_index=True)\n"
     ]
    },
    {
     "data": {
      "text/html": [
       "<div>\n",
       "<style scoped>\n",
       "    .dataframe tbody tr th:only-of-type {\n",
       "        vertical-align: middle;\n",
       "    }\n",
       "\n",
       "    .dataframe tbody tr th {\n",
       "        vertical-align: top;\n",
       "    }\n",
       "\n",
       "    .dataframe thead th {\n",
       "        text-align: right;\n",
       "    }\n",
       "</style>\n",
       "<table border=\"1\" class=\"dataframe\">\n",
       "  <thead>\n",
       "    <tr style=\"text-align: right;\">\n",
       "      <th></th>\n",
       "      <th>Year</th>\n",
       "      <th>Population</th>\n",
       "      <th>Yearly growth</th>\n",
       "      <th>Density</th>\n",
       "      <th>Urban population</th>\n",
       "    </tr>\n",
       "  </thead>\n",
       "  <tbody>\n",
       "    <tr>\n",
       "      <th>0</th>\n",
       "      <td>1951\\n</td>\n",
       "      <td>2,584,034,261\\n</td>\n",
       "      <td>47,603,112\\n</td>\n",
       "      <td>17\\n</td>\n",
       "      <td>775,067,697\\n</td>\n",
       "    </tr>\n",
       "    <tr>\n",
       "      <th>1</th>\n",
       "      <td>1952\\n</td>\n",
       "      <td>2,630,861,562\\n</td>\n",
       "      <td>46,827,301\\n</td>\n",
       "      <td>18\\n</td>\n",
       "      <td>799,282,533\\n</td>\n",
       "    </tr>\n",
       "    <tr>\n",
       "      <th>2</th>\n",
       "      <td>1953\\n</td>\n",
       "      <td>2,677,608,960\\n</td>\n",
       "      <td>46,747,398\\n</td>\n",
       "      <td>18\\n</td>\n",
       "      <td>824,289,989\\n</td>\n",
       "    </tr>\n",
       "    <tr>\n",
       "      <th>3</th>\n",
       "      <td>1954\\n</td>\n",
       "      <td>2,724,846,741\\n</td>\n",
       "      <td>47,237,781\\n</td>\n",
       "      <td>18\\n</td>\n",
       "      <td>850,179,106\\n</td>\n",
       "    </tr>\n",
       "    <tr>\n",
       "      <th>4</th>\n",
       "      <td>1955\\n</td>\n",
       "      <td>2,773,019,936\\n</td>\n",
       "      <td>48,173,195\\n</td>\n",
       "      <td>19\\n</td>\n",
       "      <td>877,008,842\\n</td>\n",
       "    </tr>\n",
       "    <tr>\n",
       "      <th>...</th>\n",
       "      <td>...</td>\n",
       "      <td>...</td>\n",
       "      <td>...</td>\n",
       "      <td>...</td>\n",
       "      <td>...</td>\n",
       "    </tr>\n",
       "    <tr>\n",
       "      <th>65</th>\n",
       "      <td>2016\\n</td>\n",
       "      <td>7,464,022,000\\n</td>\n",
       "      <td>84,225,000\\n</td>\n",
       "      <td>50\\n</td>\n",
       "      <td>4,060,653,000\\n</td>\n",
       "    </tr>\n",
       "    <tr>\n",
       "      <th>66</th>\n",
       "      <td>2017\\n</td>\n",
       "      <td>7,547,859,000\\n</td>\n",
       "      <td>83,837,000\\n</td>\n",
       "      <td>51\\n</td>\n",
       "      <td>4,140,189,000\\n</td>\n",
       "    </tr>\n",
       "    <tr>\n",
       "      <th>67</th>\n",
       "      <td>2018\\n</td>\n",
       "      <td>7,631,091,000\\n</td>\n",
       "      <td>83,232,000\\n</td>\n",
       "      <td>51\\n</td>\n",
       "      <td>4,219,817,000\\n</td>\n",
       "    </tr>\n",
       "    <tr>\n",
       "      <th>68</th>\n",
       "      <td>2019\\n</td>\n",
       "      <td>7,713,468,000\\n</td>\n",
       "      <td>82,377,000\\n</td>\n",
       "      <td>52\\n</td>\n",
       "      <td>4,299,439,000\\n</td>\n",
       "    </tr>\n",
       "    <tr>\n",
       "      <th>69</th>\n",
       "      <td>2020\\n</td>\n",
       "      <td>7,795,000,000\\n</td>\n",
       "      <td>81,331,000\\n</td>\n",
       "      <td>52\\n</td>\n",
       "      <td>4,378,900,000\\n</td>\n",
       "    </tr>\n",
       "  </tbody>\n",
       "</table>\n",
       "<p>70 rows × 5 columns</p>\n",
       "</div>"
      ],
      "text/plain": [
       "      Year       Population Yearly growth Density Urban population\n",
       "0   1951\\n  2,584,034,261\\n  47,603,112\\n    17\\n    775,067,697\\n\n",
       "1   1952\\n  2,630,861,562\\n  46,827,301\\n    18\\n    799,282,533\\n\n",
       "2   1953\\n  2,677,608,960\\n  46,747,398\\n    18\\n    824,289,989\\n\n",
       "3   1954\\n  2,724,846,741\\n  47,237,781\\n    18\\n    850,179,106\\n\n",
       "4   1955\\n  2,773,019,936\\n  48,173,195\\n    19\\n    877,008,842\\n\n",
       "..     ...              ...           ...     ...              ...\n",
       "65  2016\\n  7,464,022,000\\n  84,225,000\\n    50\\n  4,060,653,000\\n\n",
       "66  2017\\n  7,547,859,000\\n  83,837,000\\n    51\\n  4,140,189,000\\n\n",
       "67  2018\\n  7,631,091,000\\n  83,232,000\\n    51\\n  4,219,817,000\\n\n",
       "68  2019\\n  7,713,468,000\\n  82,377,000\\n    52\\n  4,299,439,000\\n\n",
       "69  2020\\n  7,795,000,000\\n  81,331,000\\n    52\\n  4,378,900,000\\n\n",
       "\n",
       "[70 rows x 5 columns]"
      ]
     },
     "execution_count": 4,
     "metadata": {},
     "output_type": "execute_result"
    }
   ],
   "source": [
    "import pandas as pd\n",
    "url3 = 'https://en.wikipedia.org/wiki/World_population'\n",
    "data3 = requests.get(url3).text\n",
    "\n",
    "soup3 = BeautifulSoup(data3, 'html.parser')\n",
    "table = soup3.find_all('table')\n",
    "table_population = table[6]\n",
    "\n",
    "\n",
    "population_data =  pd.DataFrame(columns=['Year', 'Population', 'Yearly growth', 'Density', 'Urban population'])\n",
    "\n",
    "for row in table_population.tbody.findAll('tr'):\n",
    "    date = row.findAll('th', style=\"text-align: right;\")\n",
    "    column = row.findAll('td')\n",
    "    \n",
    "    if date != [] and column != []:\n",
    "        Year = date[0].string\n",
    "        Population = column[0].string\n",
    "        Yearly = column[2].string\n",
    "        Density= column[3].string\n",
    "        Urban = column[4].string\n",
    "\n",
    "        population_data = population_data.append({'Year':Year, 'Population':Population, 'Yearly growth':Yearly, 'Density':Density, 'Urban population':Urban}, ignore_index=True)\n",
    "\n",
    "population_data"
   ]
  },
  {
   "cell_type": "code",
   "execution_count": 6,
   "metadata": {},
   "outputs": [
    {
     "data": {
      "text/html": [
       "<div>\n",
       "<style scoped>\n",
       "    .dataframe tbody tr th:only-of-type {\n",
       "        vertical-align: middle;\n",
       "    }\n",
       "\n",
       "    .dataframe tbody tr th {\n",
       "        vertical-align: top;\n",
       "    }\n",
       "\n",
       "    .dataframe thead tr th {\n",
       "        text-align: left;\n",
       "    }\n",
       "</style>\n",
       "<table border=\"1\" class=\"dataframe\">\n",
       "  <thead>\n",
       "    <tr>\n",
       "      <th></th>\n",
       "      <th>Year</th>\n",
       "      <th>Population</th>\n",
       "      <th colspan=\"2\" halign=\"left\">Yearly growth</th>\n",
       "      <th>Density (pop/km2)</th>\n",
       "      <th colspan=\"2\" halign=\"left\">Urban population</th>\n",
       "    </tr>\n",
       "    <tr>\n",
       "      <th></th>\n",
       "      <th>Year</th>\n",
       "      <th>Population</th>\n",
       "      <th>%</th>\n",
       "      <th>Number</th>\n",
       "      <th>Density (pop/km2)</th>\n",
       "      <th>Number</th>\n",
       "      <th>%</th>\n",
       "    </tr>\n",
       "  </thead>\n",
       "  <tbody>\n",
       "    <tr>\n",
       "      <th>0</th>\n",
       "      <td>1951</td>\n",
       "      <td>2584034261</td>\n",
       "      <td>1.88%</td>\n",
       "      <td>47603112</td>\n",
       "      <td>17</td>\n",
       "      <td>775067697</td>\n",
       "      <td>30%</td>\n",
       "    </tr>\n",
       "    <tr>\n",
       "      <th>1</th>\n",
       "      <td>1952</td>\n",
       "      <td>2630861562</td>\n",
       "      <td>1.81%</td>\n",
       "      <td>46827301</td>\n",
       "      <td>18</td>\n",
       "      <td>799282533</td>\n",
       "      <td>30%</td>\n",
       "    </tr>\n",
       "    <tr>\n",
       "      <th>2</th>\n",
       "      <td>1953</td>\n",
       "      <td>2677608960</td>\n",
       "      <td>1.78%</td>\n",
       "      <td>46747398</td>\n",
       "      <td>18</td>\n",
       "      <td>824289989</td>\n",
       "      <td>31%</td>\n",
       "    </tr>\n",
       "    <tr>\n",
       "      <th>3</th>\n",
       "      <td>1954</td>\n",
       "      <td>2724846741</td>\n",
       "      <td>1.76%</td>\n",
       "      <td>47237781</td>\n",
       "      <td>18</td>\n",
       "      <td>850179106</td>\n",
       "      <td>31%</td>\n",
       "    </tr>\n",
       "    <tr>\n",
       "      <th>4</th>\n",
       "      <td>1955</td>\n",
       "      <td>2773019936</td>\n",
       "      <td>1.77%</td>\n",
       "      <td>48173195</td>\n",
       "      <td>19</td>\n",
       "      <td>877008842</td>\n",
       "      <td>32%</td>\n",
       "    </tr>\n",
       "    <tr>\n",
       "      <th>...</th>\n",
       "      <td>...</td>\n",
       "      <td>...</td>\n",
       "      <td>...</td>\n",
       "      <td>...</td>\n",
       "      <td>...</td>\n",
       "      <td>...</td>\n",
       "      <td>...</td>\n",
       "    </tr>\n",
       "    <tr>\n",
       "      <th>65</th>\n",
       "      <td>2016</td>\n",
       "      <td>7464022000</td>\n",
       "      <td>1.14%</td>\n",
       "      <td>84225000</td>\n",
       "      <td>50</td>\n",
       "      <td>4060653000</td>\n",
       "      <td>54%</td>\n",
       "    </tr>\n",
       "    <tr>\n",
       "      <th>66</th>\n",
       "      <td>2017</td>\n",
       "      <td>7547859000</td>\n",
       "      <td>1.12%</td>\n",
       "      <td>83837000</td>\n",
       "      <td>51</td>\n",
       "      <td>4140189000</td>\n",
       "      <td>55%</td>\n",
       "    </tr>\n",
       "    <tr>\n",
       "      <th>67</th>\n",
       "      <td>2018</td>\n",
       "      <td>7631091000</td>\n",
       "      <td>1.10%</td>\n",
       "      <td>83232000</td>\n",
       "      <td>51</td>\n",
       "      <td>4219817000</td>\n",
       "      <td>55%</td>\n",
       "    </tr>\n",
       "    <tr>\n",
       "      <th>68</th>\n",
       "      <td>2019</td>\n",
       "      <td>7713468000</td>\n",
       "      <td>1.08%</td>\n",
       "      <td>82377000</td>\n",
       "      <td>52</td>\n",
       "      <td>4299439000</td>\n",
       "      <td>56%</td>\n",
       "    </tr>\n",
       "    <tr>\n",
       "      <th>69</th>\n",
       "      <td>2020</td>\n",
       "      <td>7795000000</td>\n",
       "      <td>1.05%</td>\n",
       "      <td>81331000</td>\n",
       "      <td>52</td>\n",
       "      <td>4378900000</td>\n",
       "      <td>56%</td>\n",
       "    </tr>\n",
       "  </tbody>\n",
       "</table>\n",
       "<p>70 rows × 7 columns</p>\n",
       "</div>"
      ],
      "text/plain": [
       "    Year  Population Yearly growth           Density (pop/km2)  \\\n",
       "    Year  Population             %    Number Density (pop/km2)   \n",
       "0   1951  2584034261         1.88%  47603112                17   \n",
       "1   1952  2630861562         1.81%  46827301                18   \n",
       "2   1953  2677608960         1.78%  46747398                18   \n",
       "3   1954  2724846741         1.76%  47237781                18   \n",
       "4   1955  2773019936         1.77%  48173195                19   \n",
       "..   ...         ...           ...       ...               ...   \n",
       "65  2016  7464022000         1.14%  84225000                50   \n",
       "66  2017  7547859000         1.12%  83837000                51   \n",
       "67  2018  7631091000         1.10%  83232000                51   \n",
       "68  2019  7713468000         1.08%  82377000                52   \n",
       "69  2020  7795000000         1.05%  81331000                52   \n",
       "\n",
       "   Urban population       \n",
       "             Number    %  \n",
       "0         775067697  30%  \n",
       "1         799282533  30%  \n",
       "2         824289989  31%  \n",
       "3         850179106  31%  \n",
       "4         877008842  32%  \n",
       "..              ...  ...  \n",
       "65       4060653000  54%  \n",
       "66       4140189000  55%  \n",
       "67       4219817000  55%  \n",
       "68       4299439000  56%  \n",
       "69       4378900000  56%  \n",
       "\n",
       "[70 rows x 7 columns]"
      ]
     },
     "execution_count": 6,
     "metadata": {},
     "output_type": "execute_result"
    }
   ],
   "source": [
    "pd.read_html(url3, flavor='bs4')[6]"
   ]
  }
 ],
 "metadata": {
  "kernelspec": {
   "display_name": "Python 3",
   "language": "python",
   "name": "python3"
  },
  "language_info": {
   "codemirror_mode": {
    "name": "ipython",
    "version": 3
   },
   "file_extension": ".py",
   "mimetype": "text/x-python",
   "name": "python",
   "nbconvert_exporter": "python",
   "pygments_lexer": "ipython3",
   "version": "3.11.0"
  },
  "orig_nbformat": 4,
  "vscode": {
   "interpreter": {
    "hash": "e2c36eb72f245f1dae3ae9d26193fc7f1eeddbdfdd969d716bcefa64d34c8831"
   }
  }
 },
 "nbformat": 4,
 "nbformat_minor": 2
}
